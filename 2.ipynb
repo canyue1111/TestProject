{
  "nbformat": 4,
  "nbformat_minor": 0,
  "metadata": {
    "colab": {
      "name": "p_test.ipynb",
      "provenance": [],
      "collapsed_sections": []
    },
    "kernelspec": {
      "name": "python3",
      "display_name": "Python 3"
    }
  },
  "cells": [
    {
      "cell_type": "markdown",
      "metadata": {
        "id": "Vzd7lRPxXuXx"
      },
      "source": [
        "#Scrape Data from Indeed.ca"
      ]
    },
    {
      "cell_type": "code",
      "metadata": {
        "id": "SlCLAV54XqiM"
      },
      "source": [
        "import csv\n",
        "from bs4 import BeautifulSoup"
      ],
      "execution_count": null,
      "outputs": []
    },
    {
      "cell_type": "markdown",
      "metadata": {
        "id": "J9yRg4-Um4GJ"
      },
      "source": [
        "Get job posting summary website URL for each page"
      ]
    },
    {
      "cell_type": "code",
      "metadata": {
        "id": "2KyyMNCcYFbA"
      },
      "source": [
        "def get_url(job_search, page):\n",
        "  #For US https://www.indeed.com/jobs?q=Data+Analyst&l=\n",
        "  #For Canada https://ca.indeed.com/jobs?q=\" +job_search+\"&start=\"+str(page*10)\n",
        "  temp = \"https://ca.indeed.com/jobs?q=\" +job_search+\"&start=\"+str(page*10)\n",
        "  job_search = job_search.replace(' ','+')\n",
        "  return temp.format(job_search)"
      ],
      "execution_count": null,
      "outputs": []
    },
    {
      "cell_type": "code",
      "metadata": {
        "id": "oxpx1vYwaq5J"
      },
      "source": [
        "import requests\n",
        "import numpy as np\n",
        "import pandas as pd"
      ],
      "execution_count": null,
      "outputs": []
    },
    {
      "cell_type": "code",
      "metadata": {
        "colab": {
          "base_uri": "https://localhost:8080/"
        },
        "id": "qxWG1EXIIwN0",
        "outputId": "5116611c-1fac-47ab-90e9-3a40141d177c"
      },
      "source": [
        "!pip install stop-words\n",
        "#it use to avoid similar words and "
      ],
      "execution_count": null,
      "outputs": [
        {
          "output_type": "stream",
          "text": [
            "Collecting stop-words\n",
            "  Downloading https://files.pythonhosted.org/packages/1c/cb/d58290804b7a4c5daa42abbbe2a93c477ae53e45541b1825e86f0dfaaf63/stop-words-2018.7.23.tar.gz\n",
            "Building wheels for collected packages: stop-words\n",
            "  Building wheel for stop-words (setup.py) ... \u001b[?25l\u001b[?25hdone\n",
            "  Created wheel for stop-words: filename=stop_words-2018.7.23-cp36-none-any.whl size=32917 sha256=5806fbb22247ebb549e4dfdd767554fa13da40656d10e55afb2632b9b97e9d22\n",
            "  Stored in directory: /root/.cache/pip/wheels/75/37/6a/2b295e03bd07290f0da95c3adb9a74ba95fbc333aa8b0c7c78\n",
            "Successfully built stop-words\n",
            "Installing collected packages: stop-words\n",
            "Successfully installed stop-words-2018.7.23\n"
          ],
          "name": "stdout"
        }
      ]
    },
    {
      "cell_type": "code",
      "metadata": {
        "id": "Eq4ukvU0oeii"
      },
      "source": [
        "from stop_words import get_stop_words\n",
        "from nltk.stem.porter import PorterStemmer\n",
        "\n",
        "en_stop = get_stop_words('en') #to lower capital\n",
        "p_stemmer = PorterStemmer() #it use to avoid similar words and useless words"
      ],
      "execution_count": null,
      "outputs": []
    },
    {
      "cell_type": "code",
      "metadata": {
        "id": "LPq8U_Y6PCLL"
      },
      "source": [
        "#if find skill or experience in content, return to a list\n",
        "\n",
        "def get_spec_skill_experience(a_list, dic):\n",
        "  x = []\n",
        "  for i in a_list:\n",
        "    for j in dic:\n",
        "      if j in i:\n",
        "        x.append(i)\n",
        "\n",
        "  return x"
      ],
      "execution_count": null,
      "outputs": []
    },
    {
      "cell_type": "markdown",
      "metadata": {
        "id": "wU1giYUBR67W"
      },
      "source": [
        "Read Description From Job Posting Page\n",
        "If a sentence contain a \"one\" \"two\" \"three\" somthing like this, return to digital numbers. like\"three years experience\" to \"3 years\""
      ]
    },
    {
      "cell_type": "code",
      "metadata": {
        "id": "avqMIt45940K"
      },
      "source": [
        "def hasNumbers(inputString):\n",
        "  return any(char.isdigit() for char in inputString) "
      ],
      "execution_count": null,
      "outputs": []
    },
    {
      "cell_type": "code",
      "metadata": {
        "id": "o-mllOgLd2Mk"
      },
      "source": [
        "#ref https://stackoverflow.com/questions/493174/is-there-a-way-to-convert-number-words-to-integers\n",
        "#Word to number function for sentence\n",
        "\n",
        "def text2int (textnum, numwords={}):\n",
        "    if not numwords:\n",
        "        units = [\n",
        "        \"zero\", \"one\", \"two\", \"three\", \"four\", \"five\", \"six\", \"seven\", \"eight\",\n",
        "        \"nine\", \"ten\", \"eleven\", \"twelve\", \"thirteen\", \"fourteen\", \"fifteen\",\n",
        "        \"sixteen\", \"seventeen\", \"eighteen\", \"nineteen\",\n",
        "        ]\n",
        "\n",
        "        tens = [\"\", \"\", \"twenty\", \"thirty\", \"forty\", \"fifty\", \"sixty\", \"seventy\", \"eighty\", \"ninety\"]\n",
        "\n",
        "        scales = [\"hundred\", \"thousand\", \"million\", \"billion\", \"trillion\"]\n",
        "\n",
        "        #numwords[\"and\"] = (1, 0)\n",
        "        for idx, word in enumerate(units):  numwords[word] = (1, idx)\n",
        "        for idx, word in enumerate(tens):       numwords[word] = (1, idx * 10)\n",
        "        for idx, word in enumerate(scales): numwords[word] = (10 ** (idx * 3 or 2), 0)\n",
        "\n",
        "    ordinal_words = {'first':1, 'second':2, 'third':3, 'fifth':5, 'eighth':8, 'ninth':9, 'twelfth':12}\n",
        "    ordinal_endings = [('ieth', 'y'), ('th', '')]\n",
        "\n",
        "    textnum = textnum.replace('-', ' ')\n",
        "\n",
        "    current = result = 0\n",
        "    curstring = \"\"\n",
        "    onnumber = False\n",
        "    for word in textnum.split():\n",
        "        if word in ordinal_words:\n",
        "            scale, increment = (1, ordinal_words[word])\n",
        "            current = current * scale + increment\n",
        "            if scale > 100:\n",
        "                result += current\n",
        "                current = 0\n",
        "            onnumber = True\n",
        "        else:\n",
        "            for ending, replacement in ordinal_endings:\n",
        "                if word.endswith(ending):\n",
        "                    word = \"%s%s\" % (word[:-len(ending)], replacement)\n",
        "\n",
        "            if word not in numwords:\n",
        "                if onnumber:\n",
        "                    curstring += repr(result + current) + \" \"\n",
        "                curstring += word + \" \"\n",
        "                result = current = 0\n",
        "                onnumber = False\n",
        "            else:\n",
        "                scale, increment = numwords[word]\n",
        "\n",
        "                current = current * scale + increment\n",
        "                if scale > 100:\n",
        "                    result += current\n",
        "                    current = 0\n",
        "                onnumber = True\n",
        "\n",
        "    if onnumber:\n",
        "        curstring += repr(result + current)\n",
        "\n",
        "    return curstring"
      ],
      "execution_count": null,
      "outputs": []
    },
    {
      "cell_type": "markdown",
      "metadata": {
        "id": "2KBYPesvobhb"
      },
      "source": [
        "Now, we need to summarize the job posting content.\n",
        "It will be two ways. firstly, find out the minimum experience they required generally. (ex. 2-5 years experience, take 2)\n",
        "Degree required, (Bachelor's degree showing as Bachelor degree)\n",
        "Also, find out which words appearing the most frequent"
      ]
    },
    {
      "cell_type": "code",
      "metadata": {
        "id": "BdGO3UOenfWt"
      },
      "source": [
        "import re\n",
        "from gensim.summarization import keywords\n",
        "\n",
        "from stop_words import get_stop_words\n",
        "dic = [\"math\",\"sql\",\"python\",\"excel\",\"experience\",\"communication\", \"program\",\"degree\",\"qualification\",\"skill\"]\n",
        "\n",
        "def readDescription(url):\n",
        "  page = requests.get(url)\n",
        "  src = page.content\n",
        "  a = BeautifulSoup(src,'lxml')\n",
        "\n",
        "  try:\n",
        "    info = a.find('div', {\"id\":'jobDescriptionText'})\n",
        "    info = [text for text in info.stripped_strings] #to list  .stripped_strings\n",
        "    map(str.lower, info)\n",
        "    #.text.replace('\\n','')\n",
        "  except:\n",
        "    info =[\"none\"]\n",
        "\n",
        " #remove useless word\n",
        "  en_stop = get_stop_words('en')\n",
        "  stopped_tokens = [i for i in info if not i in en_stop]\n",
        "\n",
        "  info = [p_stemmer.stem(i) for i in stopped_tokens]\n",
        "  fin_l = []\n",
        "  fin_l = keywords(str(info), words = 8, split=True)\n",
        "\n",
        "  info = get_spec_skill_experience(info, dic)\n",
        "#GET NUMBER OF EXPERIENCE MINIMUM REQURIED\n",
        "\n",
        "  number = 99 \n",
        "  temp = []\n",
        "  degree = \"none\"\n",
        "\n",
        "  [temp.append(x) for x in info if x not in temp]\n",
        "\n",
        "  for i in temp:\n",
        "    i = text2int(i)\n",
        "    #re.sub('[^A-Za-z0-9]+',' ', i)\n",
        "    i = i.replace(\"'\",\"\") \n",
        "    i = i.replace(\"’\",\"\") \n",
        "    \n",
        "    if (\"experience\" in i) & (hasNumbers(i))& (\"year\" in i):  #if a sentence contain experience, and years\n",
        "      x = re.findall('(\\d+)', i, re.IGNORECASE)\n",
        "      if x:\n",
        "        if int(min(x)) < number:\n",
        "          number = int(min(x)) \n",
        "\n",
        "    if \"degree\" in i:  #if a sentence contain degree\n",
        "      try:\n",
        "        degree = re.findall(\"\\w+ degree\", i)\n",
        "        degree =  ' '.join([str(elem) for elem in degree]) \n",
        "      except:\n",
        "        if \"education\" in i:\n",
        "          try:\n",
        "            degree = re.findall(\"\\w+ education\", i)\n",
        "            degree =  ' '.join([str(elem) for elem in degree]) \n",
        "          except:\n",
        "            degree = \"None\"\n",
        "\n",
        "  #Final Description Returned\n",
        "\n",
        "  #fin_l = []\n",
        "  #fin_l = keywords(str(info), words = 8, split=True)\n",
        "  fin_l.insert(0, number) #INSERT MINIMUM experience data\n",
        "  fin_l.insert(1, degree)\n",
        "\n",
        "  return fin_l\n",
        "\n",
        "#readDescription(\"https://ca.indeed.com/viewjob?jk=4b613f9bd434c66e&tk=1enq24fmot4im801&from=serp&vjs=3\")\n"
      ],
      "execution_count": null,
      "outputs": []
    },
    {
      "cell_type": "markdown",
      "metadata": {
        "id": "rRPmUodYpczS"
      },
      "source": [
        "The website has different types to show the salary they offered\n",
        "\"$68,807 - $79,706 a year, weekly, day, hourly\n",
        "This function is used to make all of them to an integer showing their hourly payment."
      ]
    },
    {
      "cell_type": "code",
      "metadata": {
        "id": "YWFPi0hTCrfl"
      },
      "source": [
        "def salary_num(stringW):\n",
        "  Numberlist = re.findall(r\"\\d+\\,?\\d+\\.?\\d*\", stringW)\n",
        "\n",
        "  order = 0\n",
        "  for originstring in Numberlist:\n",
        "      if \",\" in originstring and \".\" not in originstring:  #for numbers like 68,870 and 27.33\n",
        "          Numberlist.remove(originstring)\n",
        "          newstring = originstring.replace(',' , '')\n",
        "          Numberlist.insert(order,newstring)\n",
        "          order +=1\n",
        "      elif \".\" in originstring and \",\" in originstring:\n",
        "          Numberlist.remove(originstring)\n",
        "          newstring = originstring.replace(',' , '')\n",
        "          Numberlist.insert(order,newstring)\n",
        "          order +=1\n",
        "#print(Numberlist)\n",
        "  Total = 0\n",
        "  for number in Numberlist:\n",
        "      Total += float(number)\n",
        "  temp = Total/len(Numberlist)\n",
        "  if \"week\" in stringW:\n",
        "    return round(temp/40,2)\n",
        "  if \"hour\" in stringW:\n",
        "    return round(temp,2)\n",
        "  if \"year\" in stringW:\n",
        "    return round(temp/2080,2)\n",
        "  if \"day\" in stringW:\n",
        "    return round(temp/8,2)\n",
        "  else: return 99\n",
        "\n",
        "#print(salary_num(\"$68,807 - $79,706 a year\"))"
      ],
      "execution_count": null,
      "outputs": []
    },
    {
      "cell_type": "code",
      "metadata": {
        "id": "SGJ-ggpkakfp"
      },
      "source": [
        "def readHtml(url): #read job posting url content for different pages\n",
        "  page = requests.get(url)\n",
        "  src = page.content\n",
        "  a = BeautifulSoup(src,'lxml')\n",
        "\n",
        "  div = a.find_all('div', {\"class\":'jobsearch-SerpJobCard'})\n",
        "  #print(div)\n",
        "  link = []\n",
        "  title = []\n",
        "  company = []\n",
        "  salary =  []\n",
        "  location = []\n",
        "  description = []\n",
        "\n",
        "  #print(summary)\n",
        "  for i in div:\n",
        "    title.append(i.find('a').text.strip())\n",
        "    company.append(i.find('span', {\"class\":'company'}).text.strip())  #company name\n",
        "    try:\n",
        "      salary_test = i.find('span', {\"class\":'salaryText'}).text.strip() #salary if they have\n",
        "      salary_test = salary_num(salary_test )\n",
        "      salary.append(salary_test)\n",
        "    except:\n",
        "      salary.append(\"None\")\n",
        "    try:\n",
        "      location.append(i.find('',{\"class\":'location accessible-contrast-color-location'}).text.strip()) #location if they have\n",
        "    except:\n",
        "      location.append(\"None\")\n",
        "    #print(title, company)\n",
        "    details = i.find('a', {\"target\":'_blank'}) #read the url for inner detailed content\n",
        "    if 'href' in details.attrs:\n",
        "      x = details.attrs['href'].replace(\"/rc/clk\", '')\n",
        "      d_url = \"https://ca.indeed.com/viewjob\"+ x  #find href\n",
        "      link.append(d_url )\n",
        "      description.append(readDescription(d_url))  #!!!! summerize detailed description \n",
        "    else:\n",
        "      link.append(\"None\")\n",
        "      description.append(\"None\")\n",
        "\n",
        "\n",
        "  job = {\n",
        "      'title' : title,\n",
        "      'company' : company,\n",
        "      'salary': salary,\n",
        "      'link':link,\n",
        "      'description': description,\n",
        "      'location':location\n",
        "  }\n",
        "  return job   #return a dic contain all infomation\n",
        "\n",
        "#readHtml(\"https://ca.indeed.com/jobs?q=Data+Analyst&start=10\")\n"
      ],
      "execution_count": null,
      "outputs": []
    },
    {
      "cell_type": "markdown",
      "metadata": {
        "id": "CRMZcTdRmTmI"
      },
      "source": [
        "#Export Data\n",
        "Due to Operation limit, it will run serveral times, to export \"1.csv\",\"2.csv\" etc."
      ]
    },
    {
      "cell_type": "code",
      "metadata": {
        "id": "R_VrvPm6_sqH"
      },
      "source": [
        "final_job_list = pd.DataFrame()\n",
        "for i in range(0,20):   #in this case, page 0-19.\n",
        "  url = get_url('Data Analyst', i)\n",
        "  try:\n",
        "    dp = pd.DataFrame(readHtml(url))\n",
        "  except:\n",
        "    dp = pd.DataFrame()\n",
        "  #display(dp)\n",
        "  final_job_list = final_job_list.append(dp, ignore_index = True) \n",
        "\n"
      ],
      "execution_count": null,
      "outputs": []
    },
    {
      "cell_type": "code",
      "metadata": {
        "id": "UD7pkM-lf9bN"
      },
      "source": [
        "final_job_list[\"Minimum Experience Required\"] = final_job_list[\"description\"].apply(lambda x: x[0])\n",
        "final_job_list[\"Education Required\"] = final_job_list[\"description\"].apply(lambda x: x[1])\n",
        "final_job_list[\"description\"] = final_job_list[\"description\"].apply(lambda x: x[2:])\n",
        "\n"
      ],
      "execution_count": null,
      "outputs": []
    },
    {
      "cell_type": "code",
      "metadata": {
        "id": "p-XUB0T98pNi"
      },
      "source": [
        "final_job_list.to_csv('0.csv')  #1,2,3,4"
      ],
      "execution_count": null,
      "outputs": []
    }
  ]
}